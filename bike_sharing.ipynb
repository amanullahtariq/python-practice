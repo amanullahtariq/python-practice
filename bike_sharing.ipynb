{
 "cells": [
  {
   "cell_type": "markdown",
   "metadata": {
    "collapsed": true
   },
   "source": [
    "# Bike sharing\n",
    "\n",
    "\n",
    "### Understanding the Dataset\n",
    "\n",
    "##### Independent Variables\n",
    "- datetime:   date and hour in \"mm/dd/yyyy hh:mm\" format\n",
    "- season:     Four categories-> 1 = spring, 2 = summer, 3 = fall, 4 = winter\n",
    "- holiday:    whether the day is a holiday or not (1/0)\n",
    "- workingday: whether the day is neither a weekend nor holiday (1/0)\n",
    "- weather:    Four Categories of weather\n",
    "            1-> Clear, Few clouds, Partly cloudy, Partly cloudy\n",
    "            2-> Mist + Cloudy, Mist + Broken clouds, Mist + Few clouds, Mist\n",
    "            3-> Light Snow and Rain + Thunderstorm + Scattered clouds, Light Rain + Scattered clouds\n",
    "            4-> Heavy Rain + Ice Pallets + Thunderstorm + Mist, Snow + Fog\n",
    "- temp:       hourly temperature in Celsius\n",
    "- atemp:      \"feels like\" temperature in Celsius\n",
    "- humidity:   relative humidity\n",
    "- windspeed:  wind speed\n",
    "\n",
    "##### Dependent Variables\n",
    "- registered: number of registered user\n",
    "- casual:     number of non-registered user\n",
    "- count:      number of total rentals (registered + casual)\n"
   ]
  },
  {
   "cell_type": "code",
   "execution_count": null,
   "metadata": {},
   "outputs": [],
   "source": [
    "import os\n",
    "print(os.listdir(\"../dataset/Bike-Sharing-Dataset/\"))"
   ]
  },
  {
   "cell_type": "code",
   "execution_count": null,
   "metadata": {},
   "outputs": [],
   "source": [
    "#Loading all the needed libraries\n",
    "import pandas as pd\n",
    "import numpy as np\n",
    "import matplotlib.pyplot as plt\n",
    "import seaborn as sns\n",
    "from sklearn.preprocessing import OneHotEncoder\n",
    "from sklearn.model_selection import train_test_split\n",
    "from sklearn.linear_model import LinearRegression\n",
    "from sklearn.metrics import r2_score, mean_squared_error, mean_absolute_error\n",
    "from sklearn.svm import SVR\n",
    "from sklearn.ensemble import RandomForestRegressor\n"
   ]
  },
  {
   "cell_type": "code",
   "execution_count": null,
   "metadata": {},
   "outputs": [],
   "source": [
    "# Importing the data\n",
    "df = pd.read_csv(\"../dataset/Bike-Sharing-Dataset/day.csv\")\n",
    "\n",
    "train_df = df.loc[0:600,:]\n",
    "test_df = df.loc[600:]"
   ]
  },
  {
   "cell_type": "code",
   "execution_count": null,
   "metadata": {},
   "outputs": [],
   "source": [
    "train_df.head()\n"
   ]
  },
  {
   "cell_type": "code",
   "execution_count": null,
   "metadata": {},
   "outputs": [],
   "source": [
    "print(df.shape)\n",
    "print(train_df.shape)\n",
    "print(test_df.shape)"
   ]
  },
  {
   "cell_type": "code",
   "execution_count": null,
   "metadata": {},
   "outputs": [],
   "source": [
    "# Looking at al the unique values in the column\n",
    "\n",
    "train_df.nunique()\n"
   ]
  },
  {
   "cell_type": "code",
   "execution_count": null,
   "metadata": {},
   "outputs": [],
   "source": [
    "train_df.describe()"
   ]
  },
  {
   "cell_type": "code",
   "execution_count": null,
   "metadata": {},
   "outputs": [],
   "source": [
    "#Checking in there are any null values in the columns and their data types\n",
    "train_df.info()"
   ]
  },
  {
   "cell_type": "code",
   "execution_count": null,
   "metadata": {},
   "outputs": [],
   "source": [
    "from sklearn.model_selection import train_test_split\n",
    "from sklearn.tree import DecisionTreeRegressor\n",
    "from sklearn.ensemble import RandomForestRegressor\n",
    "\n",
    "%matplotlib inline\n",
    "import matplotlib.pyplot as plt"
   ]
  },
  {
   "cell_type": "code",
   "execution_count": null,
   "metadata": {},
   "outputs": [],
   "source": [
    "# test_df[\"casual\"] = np.nan\n",
    "# test_df[\"registered\"] = np.nan\n",
    "# test_df[\"cnt\"] = np.nan"
   ]
  },
  {
   "cell_type": "code",
   "execution_count": null,
   "metadata": {},
   "outputs": [],
   "source": [
    "print(test_df.dtypes)"
   ]
  },
  {
   "cell_type": "code",
   "execution_count": null,
   "metadata": {},
   "outputs": [],
   "source": [
    "print(train_df.dtypes)"
   ]
  },
  {
   "cell_type": "code",
   "execution_count": null,
   "metadata": {},
   "outputs": [],
   "source": [
    "test_df.head()"
   ]
  },
  {
   "cell_type": "code",
   "execution_count": null,
   "metadata": {},
   "outputs": [],
   "source": [
    "train_df['dteday'] = pd.to_datetime(train_df['dteday'])\n",
    "test_df['dteday'] = pd.to_datetime(test_df['dteday'])"
   ]
  },
  {
   "cell_type": "markdown",
   "metadata": {},
   "source": [
    "### Feature engineering "
   ]
  },
  {
   "cell_type": "code",
   "execution_count": null,
   "metadata": {},
   "outputs": [],
   "source": [
    "test_df['year'] = test_df['dteday'].dt.year\n",
    "test_df['month'] = test_df['dteday'].dt.month\n",
    "test_df['hour'] = test_df['dteday'].dt.hour\n",
    "test_df['DOW'] = test_df['dteday'].dt.dayofweek\n",
    "\n",
    "train_df['year'] = train_df['dteday'].dt.year\n",
    "train_df['month'] = train_df['dteday'].dt.month\n",
    "train_df['hour'] = train_df['dteday'].dt.hour\n",
    "train_df['DOW'] = train_df['dteday'].dt.dayofweek"
   ]
  },
  {
   "cell_type": "code",
   "execution_count": null,
   "metadata": {},
   "outputs": [],
   "source": [
    "train_df.head()"
   ]
  },
  {
   "cell_type": "code",
   "execution_count": null,
   "metadata": {},
   "outputs": [],
   "source": [
    "ind_variable_selected = ['workingday', 'temp', 'year', 'month', 'hour', 'DOW']"
   ]
  },
  {
   "cell_type": "code",
   "execution_count": null,
   "metadata": {},
   "outputs": [],
   "source": [
    "x_orig_train = train_df[ind_variable_selected]\n",
    "y_orig_train = train_df['cnt']\n"
   ]
  },
  {
   "cell_type": "code",
   "execution_count": null,
   "metadata": {},
   "outputs": [],
   "source": [
    "x_orig_test = test_df[ind_variable_selected]\n",
    "y_orig_test = test_df['cnt']\n"
   ]
  },
  {
   "cell_type": "code",
   "execution_count": null,
   "metadata": {},
   "outputs": [],
   "source": [
    "x_orig_train.head()"
   ]
  },
  {
   "cell_type": "code",
   "execution_count": null,
   "metadata": {},
   "outputs": [],
   "source": [
    "y_orig_train.head()"
   ]
  },
  {
   "cell_type": "code",
   "execution_count": null,
   "metadata": {},
   "outputs": [],
   "source": [
    "hour_df = pd.read_csv(\"../dataset/Bike-Sharing-Dataset/hour.csv\")"
   ]
  },
  {
   "cell_type": "code",
   "execution_count": null,
   "metadata": {},
   "outputs": [],
   "source": [
    "hour_df.head()"
   ]
  },
  {
   "cell_type": "markdown",
   "metadata": {},
   "source": [
    "### Create smaller training and validation sets"
   ]
  },
  {
   "cell_type": "code",
   "execution_count": null,
   "metadata": {},
   "outputs": [],
   "source": [
    "x_train, x_valid, y_train, y_valid = train_test_split(x_orig_train, y_orig_train, test_size=0.25, random_state=40)"
   ]
  },
  {
   "cell_type": "code",
   "execution_count": null,
   "metadata": {},
   "outputs": [],
   "source": [
    "x_train.head()"
   ]
  },
  {
   "cell_type": "code",
   "execution_count": null,
   "metadata": {},
   "outputs": [],
   "source": [
    "x_valid.head()"
   ]
  },
  {
   "cell_type": "markdown",
   "metadata": {},
   "source": [
    "### Set up the scoring rule"
   ]
  },
  {
   "cell_type": "code",
   "execution_count": null,
   "metadata": {},
   "outputs": [],
   "source": [
    "def RMSLE(predictions, realizations):\n",
    "    prediction_use = predictions.clip(0)\n",
    "    rmsle = np.sqrt(np.mean(np.array(np.log(prediction_use + 1) - np.log(realizations + 1)) **2 ))\n",
    "    return rmsle"
   ]
  },
  {
   "cell_type": "markdown",
   "metadata": {},
   "source": [
    "### Fit a regression tree\n",
    "A regression tree is tuned with min_samples_split. Its default setting is 20, which means 20 samples are required in any node for that node to be split on. Once a node has fewer than 20 samples in it, no more split will occur. "
   ]
  },
  {
   "cell_type": "code",
   "execution_count": null,
   "metadata": {},
   "outputs": [],
   "source": [
    "x_orig_test = test_df[ind_variable_selected]\n",
    "y_orig_test = test_df['cnt']"
   ]
  },
  {
   "cell_type": "code",
   "execution_count": null,
   "metadata": {},
   "outputs": [],
   "source": [
    "rt = DecisionTreeRegressor(min_samples_split=25, random_state=40)\n",
    "rt_model = rt.fit(x_train, y_train)\n",
    "rt_pred = rt_model.predict(x_orig_test)"
   ]
  },
  {
   "cell_type": "code",
   "execution_count": null,
   "metadata": {},
   "outputs": [],
   "source": [
    "rt_pred"
   ]
  },
  {
   "cell_type": "code",
   "execution_count": null,
   "metadata": {},
   "outputs": [],
   "source": [
    "RMSLE(rt_pred,y_orig_test)\n"
   ]
  },
  {
   "cell_type": "code",
   "execution_count": null,
   "metadata": {},
   "outputs": [],
   "source": [
    "pd.DataFrame(rt_model.feature_importances_, index=ind_variable_selected)"
   ]
  },
  {
   "cell_type": "code",
   "execution_count": null,
   "metadata": {},
   "outputs": [],
   "source": [
    "plt.figure(figsize=(6,6))\n",
    "plt.scatter(rt_pred,y_orig_test, s=0.2)\n",
    "plt.xlim(400,9000)\n",
    "plt.ylim(400,9000)\n",
    "plt.plot([400,8500],[400, 8500], color='r',linestyle='-',linewidth=2)\n",
    "plt.show()"
   ]
  },
  {
   "cell_type": "markdown",
   "metadata": {},
   "source": [
    "### Random Forest"
   ]
  },
  {
   "cell_type": "code",
   "execution_count": null,
   "metadata": {},
   "outputs": [],
   "source": [
    "rf = RandomForestRegressor(n_estimators=500, max_features=4, min_samples_leaf=5,random_state=201)\n",
    "rf_model = rf.fit(x_train,y_train)\n",
    "rf_pred = rf.predict(x_valid)"
   ]
  },
  {
   "cell_type": "code",
   "execution_count": null,
   "metadata": {},
   "outputs": [],
   "source": [
    "RMSLE(rf_pred,y_valid)"
   ]
  },
  {
   "cell_type": "code",
   "execution_count": null,
   "metadata": {},
   "outputs": [],
   "source": [
    "plt.figure(figsize=(6,6))\n",
    "plt.scatter(rf_pred,y_valid, s=0.2)\n",
    "plt.xlim(400,9000)\n",
    "plt.ylim(400,9000)\n",
    "plt.plot([400,8500],[400, 8500], color='r',linestyle='-',linewidth=2)\n",
    "plt.xlabel('rf_pred',fontsize=18)\n",
    "plt.ylabel('y_valid',fontsize=18)\n",
    "plt.show()"
   ]
  },
  {
   "cell_type": "markdown",
   "metadata": {},
   "source": [
    "### Boosted Tree Model"
   ]
  },
  {
   "cell_type": "code",
   "execution_count": null,
   "metadata": {},
   "outputs": [],
   "source": [
    "import xgboost as xgb\n",
    "\n",
    "xgb_train = xgb.DMatrix(x_train,label=y_train)\n",
    "xgb_valid = xgb.DMatrix(x_valid)"
   ]
  },
  {
   "cell_type": "code",
   "execution_count": null,
   "metadata": {},
   "outputs": [],
   "source": [
    "num_round_for_cv = 500\n",
    "param = {'max_depth':5, 'eta':0.1, 'seed': 201, 'objective':'reg:linear'}"
   ]
  },
  {
   "cell_type": "markdown",
   "metadata": {},
   "source": [
    "running sgbboost in cross-validation mode to find out the best bnumber of rounds to use."
   ]
  },
  {
   "cell_type": "code",
   "execution_count": null,
   "metadata": {},
   "outputs": [],
   "source": [
    "xgb.cv(param, xgb_train, num_round_for_cv,nfold=5, show_stdv=False, verbose_eval=True, as_pandas=False)"
   ]
  },
  {
   "cell_type": "code",
   "execution_count": null,
   "metadata": {},
   "outputs": [],
   "source": [
    "num_round = 500\n",
    "xgb_model = xgb.train(param, xgb_train, num_round)\n",
    "xgb_pred = xgb_model.predict(xgb_valid)"
   ]
  },
  {
   "cell_type": "code",
   "execution_count": null,
   "metadata": {},
   "outputs": [],
   "source": [
    "xgb_model.get_fscore()"
   ]
  },
  {
   "cell_type": "code",
   "execution_count": null,
   "metadata": {},
   "outputs": [],
   "source": [
    "xgb.plot_importance(xgb_model)"
   ]
  },
  {
   "cell_type": "code",
   "execution_count": null,
   "metadata": {},
   "outputs": [],
   "source": [
    "RMSLE(xgb_pred,y_valid)"
   ]
  },
  {
   "cell_type": "code",
   "execution_count": null,
   "metadata": {},
   "outputs": [],
   "source": []
  }
 ],
 "metadata": {
  "kernelspec": {
   "display_name": "Python 3",
   "language": "python",
   "name": "python3"
  },
  "language_info": {
   "codemirror_mode": {
    "name": "ipython",
    "version": 3
   },
   "file_extension": ".py",
   "mimetype": "text/x-python",
   "name": "python",
   "nbconvert_exporter": "python",
   "pygments_lexer": "ipython3",
   "version": "3.6.5"
  }
 },
 "nbformat": 4,
 "nbformat_minor": 1
}
