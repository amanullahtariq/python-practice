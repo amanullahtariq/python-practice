{
 "cells": [
  {
   "cell_type": "markdown",
   "metadata": {
    "collapsed": true
   },
   "source": [
    "# Bike sharing\n",
    "\n",
    "\n",
    "### Understanding the Dataset\n",
    "\n",
    "##### Independent Variables\n",
    "- datetime:   date and hour in \"mm/dd/yyyy hh:mm\" format\n",
    "- season:     Four categories-> 1 = spring, 2 = summer, 3 = fall, 4 = winter\n",
    "- holiday:    whether the day is a holiday or not (1/0)\n",
    "- workingday: whether the day is neither a weekend nor holiday (1/0)\n",
    "- weather:    Four Categories of weather\n",
    "            1-> Clear, Few clouds, Partly cloudy, Partly cloudy\n",
    "            2-> Mist + Cloudy, Mist + Broken clouds, Mist + Few clouds, Mist\n",
    "            3-> Light Snow and Rain + Thunderstorm + Scattered clouds, Light Rain + Scattered clouds\n",
    "            4-> Heavy Rain + Ice Pallets + Thunderstorm + Mist, Snow + Fog\n",
    "- temp:       hourly temperature in Celsius\n",
    "- atemp:      \"feels like\" temperature in Celsius\n",
    "- humidity:   relative humidity\n",
    "- windspeed:  wind speed\n",
    "\n",
    "##### Dependent Variables\n",
    "- registered: number of registered user\n",
    "- casual:     number of non-registered user\n",
    "- count:      number of total rentals (registered + casual)\n"
   ]
  },
  {
   "cell_type": "code",
   "execution_count": null,
   "metadata": {},
   "outputs": [],
   "source": []
  }
 ],
 "metadata": {
  "kernelspec": {
   "display_name": "Python 3",
   "language": "python",
   "name": "python3"
  },
  "language_info": {
   "codemirror_mode": {
    "name": "ipython",
    "version": 3
   },
   "file_extension": ".py",
   "mimetype": "text/x-python",
   "name": "python",
   "nbconvert_exporter": "python",
   "pygments_lexer": "ipython3",
   "version": "3.6.5"
  }
 },
 "nbformat": 4,
 "nbformat_minor": 1
}
